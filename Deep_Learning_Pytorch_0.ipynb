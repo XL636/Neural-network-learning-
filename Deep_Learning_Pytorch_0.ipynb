{
  "nbformat": 4,
  "nbformat_minor": 0,
  "metadata": {
    "colab": {
      "provenance": [],
      "authorship_tag": "ABX9TyMeu671wE/9LiUc+7NIrpOQ",
      "include_colab_link": true
    },
    "kernelspec": {
      "name": "python3",
      "display_name": "Python 3"
    },
    "language_info": {
      "name": "python"
    }
  },
  "cells": [
    {
      "cell_type": "markdown",
      "metadata": {
        "id": "view-in-github",
        "colab_type": "text"
      },
      "source": [
        "<a href=\"https://colab.research.google.com/github/XL636/Neural-network-learning-/blob/main/Deep_Learning_Pytorch_0.ipynb\" target=\"_parent\"><img src=\"https://colab.research.google.com/assets/colab-badge.svg\" alt=\"Open In Colab\"/></a>"
      ]
    },
    {
      "cell_type": "markdown",
      "source": [
        "# Tensor\n",
        "* default data type of float 32\n",
        "* More suitable for deep learning than a numpy array"
      ],
      "metadata": {
        "id": "xMiTRfpBGbBC"
      }
    },
    {
      "cell_type": "code",
      "execution_count": 2,
      "metadata": {
        "id": "rCuz-pazBQyq"
      },
      "outputs": [],
      "source": [
        "import torch\n",
        "import numpy as np"
      ]
    },
    {
      "cell_type": "code",
      "source": [
        "print(torch.__version__)\n",
        "print(torch.version.cuda)"
      ],
      "metadata": {
        "colab": {
          "base_uri": "https://localhost:8080/"
        },
        "id": "meAKDR5UC2zG",
        "outputId": "e18727ba-4938-46ee-d8e2-ac634e36ef8e"
      },
      "execution_count": 2,
      "outputs": [
        {
          "output_type": "stream",
          "name": "stdout",
          "text": [
            "2.8.0+cu126\n",
            "12.6\n"
          ]
        }
      ]
    },
    {
      "cell_type": "markdown",
      "source": [
        "# List"
      ],
      "metadata": {
        "id": "3ogMpez2HJCx"
      }
    },
    {
      "cell_type": "code",
      "source": [
        "my_list = [[1,2,3,4,5]] # different dimention\n",
        "my_list"
      ],
      "metadata": {
        "colab": {
          "base_uri": "https://localhost:8080/"
        },
        "id": "4xAqsjB9EfX1",
        "outputId": "a639b66f-4f0a-483a-f659-acb9e0e367b8"
      },
      "execution_count": 4,
      "outputs": [
        {
          "output_type": "execute_result",
          "data": {
            "text/plain": [
              "[[1, 2, 3, 4, 5]]"
            ]
          },
          "metadata": {},
          "execution_count": 4
        }
      ]
    },
    {
      "cell_type": "code",
      "source": [
        "type(my_list)"
      ],
      "metadata": {
        "colab": {
          "base_uri": "https://localhost:8080/"
        },
        "id": "haFov-zFIwme",
        "outputId": "915518e9-977e-41cd-db3d-d6c325d5d47d"
      },
      "execution_count": 10,
      "outputs": [
        {
          "output_type": "execute_result",
          "data": {
            "text/plain": [
              "list"
            ]
          },
          "metadata": {},
          "execution_count": 10
        }
      ]
    },
    {
      "cell_type": "markdown",
      "source": [
        "# Numpy Arrays"
      ],
      "metadata": {
        "id": "IzgOOwTBHZhR"
      }
    },
    {
      "cell_type": "code",
      "source": [
        "npl = np.random.rand(3,4) # 2dimention (3,4)\n",
        "npl"
      ],
      "metadata": {
        "colab": {
          "base_uri": "https://localhost:8080/"
        },
        "id": "HPCYYu6tEf90",
        "outputId": "71b7ee56-ffa2-4b8c-b473-f501b16beb7e"
      },
      "execution_count": 32,
      "outputs": [
        {
          "output_type": "execute_result",
          "data": {
            "text/plain": [
              "array([[0.73641512, 0.18172802, 0.53668575, 0.84583876],\n",
              "       [0.29632274, 0.57202398, 0.64070357, 0.41231389],\n",
              "       [0.259964  , 0.22503511, 0.80452832, 0.02506542]])"
            ]
          },
          "metadata": {},
          "execution_count": 32
        }
      ]
    },
    {
      "cell_type": "code",
      "source": [
        "npl.dtype"
      ],
      "metadata": {
        "colab": {
          "base_uri": "https://localhost:8080/"
        },
        "id": "1ects-0zIe2P",
        "outputId": "6aad08c2-58cd-4029-8b82-2afbfa40d6af"
      },
      "execution_count": 7,
      "outputs": [
        {
          "output_type": "execute_result",
          "data": {
            "text/plain": [
              "dtype('float64')"
            ]
          },
          "metadata": {},
          "execution_count": 7
        }
      ]
    },
    {
      "cell_type": "markdown",
      "source": [
        "# Tensor\n",
        "* Tensor 和 Array的区别\n",
        "& 维度的区分"
      ],
      "metadata": {
        "id": "aoXwEhXFI4Co"
      }
    },
    {
      "cell_type": "code",
      "source": [
        "tensor_2d = torch.randn(3,4) # 2 dimention (3,4)\n",
        "tensor_2d\n",
        "tensor_2d.dtype, tensor_2d.shape"
      ],
      "metadata": {
        "colab": {
          "base_uri": "https://localhost:8080/"
        },
        "id": "zPJEvTK6I2kM",
        "outputId": "0f7c3171-b8fc-40ba-d206-094b79bfc6ff"
      },
      "execution_count": 39,
      "outputs": [
        {
          "output_type": "execute_result",
          "data": {
            "text/plain": [
              "(torch.float32, torch.Size([3, 4]))"
            ]
          },
          "metadata": {},
          "execution_count": 39
        }
      ]
    },
    {
      "cell_type": "code",
      "source": [
        "tensor_3d = torch.randn(3,3,4) # 3 dimention (3,3,4)\n",
        "tensor_3d\n",
        "tensor_3d.shape"
      ],
      "metadata": {
        "colab": {
          "base_uri": "https://localhost:8080/"
        },
        "id": "kgjA6HDlJtFx",
        "outputId": "2ec99e86-695e-405e-ffc3-6881963d6915"
      },
      "execution_count": 40,
      "outputs": [
        {
          "output_type": "execute_result",
          "data": {
            "text/plain": [
              "torch.Size([3, 3, 4])"
            ]
          },
          "metadata": {},
          "execution_count": 40
        }
      ]
    },
    {
      "cell_type": "markdown",
      "source": [
        "## create tensor out of numpy array"
      ],
      "metadata": {
        "id": "kQQ9Nqa2KYDD"
      }
    },
    {
      "cell_type": "code",
      "source": [
        "my_tensor = torch.tensor(npl)\n",
        "my_tensor"
      ],
      "metadata": {
        "colab": {
          "base_uri": "https://localhost:8080/"
        },
        "id": "Hl-lzeiOKBHM",
        "outputId": "1107dfc0-6e61-45c5-e642-99c6bea439d4"
      },
      "execution_count": 25,
      "outputs": [
        {
          "output_type": "execute_result",
          "data": {
            "text/plain": [
              "tensor([[0.7960, 0.2281, 0.3239, 0.5778],\n",
              "        [0.3285, 0.5461, 0.0444, 0.1320],\n",
              "        [0.4846, 0.4224, 0.4715, 0.3780]], dtype=torch.float64)"
            ]
          },
          "metadata": {},
          "execution_count": 25
        }
      ]
    }
  ]
}